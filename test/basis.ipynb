{
 "cells": [
  {
   "cell_type": "markdown",
   "metadata": {},
   "source": [
    "# 基函数例子"
   ]
  },
  {
   "cell_type": "code",
   "execution_count": 2,
   "metadata": {},
   "outputs": [
    {
     "name": "stdout",
     "output_type": "stream",
     "text": [
      "run boxmesh2d with time: 0.000443124000000239\n",
      "cell:\n",
      "\n",
      "0 :  [2 3 0]\n",
      "1 :  [1 0 3]\n"
     ]
    },
    {
     "data": {
      "image/png": "[encoded data removed]",
      "text/plain": [
       "<Figure size 432x288 with 1 Axes>"
      ]
     },
     "metadata": {
      "needs_background": "light"
     },
     "output_type": "display_data"
    }
   ],
   "source": [
    "import numpy as np\n",
    "import matplotlib.pyplot as plt\n",
    "from fealpy.mesh import MeshFactory\n",
    "\n",
    "mf = MeshFactory()\n",
    "box = [0, 1, 0, 1]\n",
    "mesh=mf.boxmesh2d(box, nx=1, ny=1, meshtype='tri')\n",
    "NC = mesh.number_of_cells()\n",
    "\n",
    "node = mesh.entity('node')\n",
    "edge = mesh.entity('edge')\n",
    "cell = mesh.entity('cell')\n",
    "\n",
    "print('cell:\\n')\n",
    "for i, val in enumerate(cell):\n",
    "    print(i,\": \", val)\n",
    "    \n",
    "v0 = node[cell[:,2],:] - node[cell[:,1],:] # x2-x1\n",
    "v1 = node[cell[:,0],:] - node[cell[:,2],:] # x0-x2\n",
    "v2 = node[cell[:,1],:] - node[cell[:,0],:] # x1-x0\n",
    "nv = np.cross(v2,-v1) # 三角形对应平行四边形的面积\n",
    "\n",
    "Dlambda = np.zeros((NC,3,2), dtype=np.float64)\n",
    "length = nv \n",
    "W = np.array([[0, 1], [-1 ,0]], dtype=np.int_)\n",
    "Dlambda[:,0,:] = v0@W/length.reshape(-1, 1)\n",
    "Dlambda[:,1,:] = v1@W/length.reshape(-1, 1)\n",
    "Dlambda[:,2,:] = v2@W/length.reshape(-1, 1)\n",
    "\n",
    "fig = plt.figure()\n",
    "axes = fig.gca()\n",
    "mesh.add_plot(axes)\n",
    "mesh.find_node(axes, showindex = True)\n",
    "mesh.find_cell(axes, showindex = True)"
   ]
  },
  {
   "cell_type": "code",
   "execution_count": null,
   "metadata": {},
   "outputs": [],
   "source": []
  }
 ],
 "metadata": {
  "kernelspec": {
   "display_name": "Python 3",
   "language": "python",
   "name": "python3"
  },
  "language_info": {
   "codemirror_mode": {
    "name": "ipython",
    "version": 3
   },
   "file_extension": ".py",
   "mimetype": "text/x-python",
   "name": "python",
   "nbconvert_exporter": "python",
   "pygments_lexer": "ipython3",
   "version": "3.7.3"
  }
 },
 "nbformat": 4,
 "nbformat_minor": 2
}
